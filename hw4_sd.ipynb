{
 "cells": [
  {
   "cell_type": "code",
   "execution_count": 1,
   "metadata": {
    "collapsed": true
   },
   "outputs": [],
   "source": [
    "# Shiman Ding, IEOR, 24104985\n",
    "# shiman@berkeley.edu\n",
    "# HW4: Parallelism\n"
   ]
  },
  {
   "cell_type": "code",
   "execution_count": 3,
   "metadata": {
    "collapsed": false
   },
   "outputs": [
    {
     "data": {
      "text/plain": [
       "'\\nPACKAGE INSTALLATION: \\ndask and dask.distributed:\\n\\nconda install dask distributed -c conda-forge\\n\\nprofiling:\\nbrew install graphviz  ## on a mac\\nsudo apt-get install graphviz ## on linux\\npip install snakeviz graphviz\\n\\njoblib:\\nconda install joblib\\nasync HTTP\\n\\npip install aiohttp\\nipyparallel:\\n\\nconda install ipyparallel\\nipcluster nbextension enable\\n\\n'"
      ]
     },
     "execution_count": 3,
     "metadata": {},
     "output_type": "execute_result"
    }
   ],
   "source": [
    "\"\"\"\n",
    "PACKAGE INSTALLATION: \n",
    "dask and dask.distributed:\n",
    "\n",
    "conda install dask distributed -c conda-forge\n",
    "\n",
    "profiling:\n",
    "brew install graphviz  ## on a mac\n",
    "sudo apt-get install graphviz ## on linux\n",
    "pip install snakeviz graphviz\n",
    "\n",
    "joblib:\n",
    "conda install joblib\n",
    "async HTTP\n",
    "\n",
    "pip install aiohttp\n",
    "ipyparallel:\n",
    "\n",
    "conda install ipyparallel\n",
    "ipcluster nbextension enable\n",
    "\n",
    "\"\"\""
   ]
  },
  {
   "cell_type": "markdown",
   "metadata": {
    "collapsed": true
   },
   "source": [
    "Q1. Use 3 methods to parallel computing and compare"
   ]
  },
  {
   "cell_type": "code",
   "execution_count": 4,
   "metadata": {
    "collapsed": true
   },
   "outputs": [],
   "source": [
    "from math import sqrt\n",
    "from random import uniform\n",
    "from time import time"
   ]
  },
  {
   "cell_type": "code",
   "execution_count": 14,
   "metadata": {
    "collapsed": false
   },
   "outputs": [
    {
     "name": "stdout",
     "output_type": "stream",
     "text": [
      "Method 1: normal calculation without parallelism\n",
      "Pi Approximation:  3.14182\n",
      "Execution time:  0.2710139751434326\n",
      "Number of darts:  200000\n",
      "Darts thrown per second:  737969\n"
     ]
    }
   ],
   "source": [
    "# Monte Carlo Simulation to count the number of darts fall into a circle, then approximate PI\n",
    "# Method 1: no Parallelism\n",
    "\n",
    "number_of_darts = 200000\n",
    "number_in_circle = 0.0\n",
    "\n",
    "start_time = time()\n",
    "for n in range(number_of_darts):\n",
    "    x = uniform(0, 1)\n",
    "    y = uniform(0, 1)\n",
    "    if sqrt((x-0.5)**2 + (y-0.5)**2)<=0.5:\n",
    "        number_in_circle += 1\n",
    "\n",
    "end_time = time()\n",
    "execute_time = end_time - start_time\n",
    "pi_approx1 = 4 * number_in_circle / number_of_darts\n",
    "\n",
    "print(\"Method 1: normal calculation without parallelism\")\n",
    "print('Pi Approximation: ', pi_approx1)\n",
    "print('Execution time: ', execute_time)\n",
    "print('Number of darts: ', number_of_darts)\n",
    "print('Darts thrown per second: ', int(number_of_darts/execute_time))"
   ]
  },
  {
   "cell_type": "code",
   "execution_count": 26,
   "metadata": {
    "collapsed": true
   },
   "outputs": [],
   "source": [
    "# define function for parallelism\n",
    "def throw_dart(idx = 1):\n",
    "    x = uniform(0, 1)\n",
    "    y = uniform(0, 1)\n",
    "    dart_in = 0\n",
    "    if sqrt((x-0.5)**2 + (y-0.5)**2)<=0.5:\n",
    "        dart_in = 1\n",
    "    return(dart_in)\n"
   ]
  },
  {
   "cell_type": "code",
   "execution_count": 27,
   "metadata": {
    "collapsed": false
   },
   "outputs": [
    {
     "data": {
      "text/plain": [
       "1"
      ]
     },
     "execution_count": 27,
     "metadata": {},
     "output_type": "execute_result"
    }
   ],
   "source": [
    "throw_dart()"
   ]
  },
  {
   "cell_type": "code",
   "execution_count": 72,
   "metadata": {
    "collapsed": false
   },
   "outputs": [
    {
     "name": "stdout",
     "output_type": "stream",
     "text": [
      "Method 2: parallel computing using MULTIPROCESSING.POOL\n",
      "Pi Approximation:  3.14182\n",
      "Execution time:  0.1725630760192871\n",
      "Number of darts:  200000\n",
      "Darts thrown per second:  1158996\n"
     ]
    }
   ],
   "source": [
    "# Method 2: multiprocessing to parallel computing\n",
    "\n",
    "from multiprocessing import Pool \n",
    "pool = Pool(processes=4)\n",
    "\n",
    "number_of_darts = 200000\n",
    "start_time = time()\n",
    "g=pool.map(throw_dart, range(number_of_darts))\n",
    "end_time = time()\n",
    "execute_time = end_time - start_time\n",
    "pi_approx2 = 4 * number_in_circle / number_of_darts\n",
    "del pool\n",
    "\n",
    "print(\"Method 2: parallel computing using MULTIPROCESSING.POOL\")\n",
    "print('Pi Approximation: ', pi_approx2)\n",
    "print('Execution time: ', execute_time)\n",
    "print('Number of darts: ', number_of_darts)\n",
    "print('Darts thrown per second: ', int(number_of_darts/execute_time))"
   ]
  },
  {
   "cell_type": "code",
   "execution_count": 70,
   "metadata": {
    "collapsed": false
   },
   "outputs": [
    {
     "name": "stdout",
     "output_type": "stream",
     "text": [
      "Method 3: parallel computing using DASK\n",
      "Pi Approximation:  3.14182\n",
      "Execution time:  0.2146298885345459\n",
      "Number of darts:  200000\n",
      "Darts thrown per second:  931836\n"
     ]
    }
   ],
   "source": [
    "# Method 3: dask to parallel computing\n",
    "import numpy as np\n",
    "import dask.array as da\n",
    "number_of_darts = 200000\n",
    "\n",
    "start_time = time()\n",
    "x = da.random.uniform(0, 1, size=number_of_darts, chunks=100)   # Cut into 1000 sized chunks\n",
    "y = da.random.uniform(0, 1, size=number_of_darts, chunks=100)   \n",
    "dart_in = (x-0.5)**2 + (y-0.5)**2 < 0.5**2\n",
    "end_time = time()\n",
    "execute_time = end_time - start_time\n",
    "pi_approx3 = 4 * number_in_circle / number_of_darts\n",
    "\n",
    "print(\"Method 3: parallel computing using DASK\")\n",
    "print('Pi Approximation: ', pi_approx3)\n",
    "print('Execution time: ', execute_time)\n",
    "print('Number of darts: ', number_of_darts)\n",
    "print('Darts thrown per second: ', int(number_of_darts/execute_time))"
   ]
  },
  {
   "cell_type": "code",
   "execution_count": 68,
   "metadata": {
    "collapsed": false
   },
   "outputs": [
    {
     "data": {
      "text/plain": [
       "1526"
      ]
     },
     "execution_count": 68,
     "metadata": {},
     "output_type": "execute_result"
    }
   ],
   "source": [
    "sum(dart_in.compute())"
   ]
  },
  {
   "cell_type": "code",
   "execution_count": null,
   "metadata": {
    "collapsed": true
   },
   "outputs": [],
   "source": []
  }
 ],
 "metadata": {
  "kernelspec": {
   "display_name": "Python [py3]",
   "language": "python",
   "name": "Python [py3]"
  },
  "language_info": {
   "codemirror_mode": {
    "name": "ipython",
    "version": 3
   },
   "file_extension": ".py",
   "mimetype": "text/x-python",
   "name": "python",
   "nbconvert_exporter": "python",
   "pygments_lexer": "ipython3",
   "version": "3.5.2"
  }
 },
 "nbformat": 4,
 "nbformat_minor": 0
}
